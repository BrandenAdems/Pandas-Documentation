{
 "cells": [
  {
   "cell_type": "markdown",
   "id": "bcbe7898",
   "metadata": {},
   "source": [
    "# Introduction to Pandas"
   ]
  },
  {
   "cell_type": "markdown",
   "id": "6c1c6cf0",
   "metadata": {},
   "source": [
    "### What is Pandas?\n",
    "\n",
    "Pandas is a library open-source, particularly designed to work simply and intuitively with relation or labeling data. It includes several data formats and procedures for numerical data and time series manipulation. It's built on the top of the library of NumPy. Pandas is quick and user productivity and performance.\n",
    "\n",
    "The advantages of using Pandas in python:\n",
    "- Fast and efficient for manipulating and analyzing data\n",
    "- Data from different file objects can be loaded.\n",
    "- Easy handaling of missing data (Represented as NaN) in floating point as well as non-floating point data\n",
    "- Size mutability: Columns can be inserted and deleted from DataFrame and higher dimensional objects\n",
    "- Data set merging and joining\n",
    "- Flexible reshaping and pivoting of data sets\n",
    "- Provides time-series functionality.\n",
    "- Powerful group by functionality for performing split-apply-combine operations on data sets."
   ]
  },
  {
   "cell_type": "markdown",
   "id": "3f081484",
   "metadata": {},
   "source": [
    "### Why is Pandas is used for Data science?\n",
    "\n",
    "Pandas are used in conjunction with other libraries that are used for data science. It is constructed on the top of the NumPy library, meaning that many NumPy structures are used in Panda or reproduced.  The data produced by Pandas are often used as input for plotting functions of Matplotlib, statistical analysis in SciPy, machine learning algorithms in Scikit-learn. Pandas program can be run from any text editor but it is recommended to use Jupyter Notebook for this as Jupyter given the ability to execute code in a particular cell rather than executing the entire file. Jupyter also offers a simple way to view data frames and plots from pandas."
   ]
  },
  {
   "cell_type": "markdown",
   "id": "626ab6f6",
   "metadata": {},
   "source": [
    "### Getting Started with Pandas"
   ]
  },
  {
   "cell_type": "code",
   "execution_count": null,
   "id": "6335f7f2",
   "metadata": {},
   "outputs": [],
   "source": [
    "import pandas as pd"
   ]
  },
  {
   "cell_type": "markdown",
   "id": "216298f3",
   "metadata": {},
   "source": [
    "Pandas generally provide two data structures for manipulating data:\n",
    "- DataFrame\n",
    "- Series"
   ]
  },
  {
   "cell_type": "markdown",
   "id": "bb95f73c",
   "metadata": {},
   "source": [
    "### Series\n",
    "\n",
    "The Pandas-Series is a one-dimensional labelled array capable of holding data of any type. The Pandas Series is just a column in an excel sheet. It is not necessary for labels to be unique, but they must be of a hashable type. The object supports both integer and label-based indexing, as well as a variety of index-related operations."
   ]
  },
  {
   "cell_type": "markdown",
   "id": "b0299207",
   "metadata": {},
   "source": [
    "#### Creating a Pandas Series"
   ]
  },
  {
   "cell_type": "code",
   "execution_count": 1,
   "id": "0dc5b61d",
   "metadata": {},
   "outputs": [
    {
     "name": "stdout",
     "output_type": "stream",
     "text": [
      "0    a\n",
      "1    b\n",
      "2    c\n",
      "3    d\n",
      "dtype: object\n"
     ]
    }
   ],
   "source": [
    "import pandas as pd\n",
    "import numpy as np\n",
    "\n",
    "# simple array\n",
    "data = np.array(['a', 'b', 'c', 'd'])\n",
    "\n",
    "series = pd.Series(data)\n",
    "print(series)"
   ]
  },
  {
   "cell_type": "markdown",
   "id": "8f556c19",
   "metadata": {},
   "source": [
    "#### Creating a Series from Lists"
   ]
  },
  {
   "cell_type": "code",
   "execution_count": 2,
   "id": "b4725c9c",
   "metadata": {},
   "outputs": [
    {
     "name": "stdout",
     "output_type": "stream",
     "text": [
      "0    a\n",
      "1    b\n",
      "2    c\n",
      "3    d\n",
      "4    e\n",
      "dtype: object\n"
     ]
    }
   ],
   "source": [
    "import pandas as pd\n",
    "\n",
    "# a simple list\n",
    "list = ['a', 'b', 'c', 'd', 'e']\n",
    "\n",
    "# create series form a list\n",
    "series = pd.Series(list)\n",
    "print(series)"
   ]
  },
  {
   "cell_type": "markdown",
   "id": "fe463052",
   "metadata": {},
   "source": [
    "#### Accessing element of Series\n",
    "\n",
    "There are two ways through which we can access element of series:\n",
    "- Accessing Element from Series with Position\n",
    "- Acessing Element using Label (Index)"
   ]
  },
  {
   "cell_type": "markdown",
   "id": "d4b7e2dc",
   "metadata": {},
   "source": [
    "Acessing Element from Series with Position:"
   ]
  },
  {
   "cell_type": "code",
   "execution_count": 5,
   "id": "fcdac849",
   "metadata": {
    "scrolled": true
   },
   "outputs": [
    {
     "name": "stdout",
     "output_type": "stream",
     "text": [
      "0    a\n",
      "1    b\n",
      "dtype: object\n"
     ]
    }
   ],
   "source": [
    "import pandas as pd\n",
    "import numpy as np\n",
    "\n",
    "data = np.array (['a','b','c','d'])\n",
    "series = pd.Series(data)\n",
    "\n",
    "#Retrieve the first element\n",
    "print(series[:2])"
   ]
  },
  {
   "cell_type": "markdown",
   "id": "48d07807",
   "metadata": {},
   "source": [
    "Acessing Element using label(Index):"
   ]
  },
  {
   "cell_type": "code",
   "execution_count": 6,
   "id": "0c20fe3d",
   "metadata": {},
   "outputs": [
    {
     "name": "stdout",
     "output_type": "stream",
     "text": [
      "e\n"
     ]
    }
   ],
   "source": [
    "import pandas as pd\n",
    "import numpy as npp\n",
    "\n",
    "#Creating simple array\n",
    "data = np.array(['a','b','c','d','e'])\n",
    "series = pd.Series(data,index=[1,2,3,4,5])\n",
    "\n",
    "print(series[5])"
   ]
  },
  {
   "cell_type": "markdown",
   "id": "1d28d5f2",
   "metadata": {},
   "source": [
    "### DataFrame\n",
    "\n",
    "Pandas DataFrame is a two-dimensional size-mutable, potentially heterogenous tabular data structure with labeled axes. A data frame is a two-dimensional data structure. Pandas DataFrame consists of three principal components, the data,rows and columns"
   ]
  },
  {
   "cell_type": "markdown",
   "id": "513f1068",
   "metadata": {},
   "source": [
    "#### Creating a DataFrame:"
   ]
  },
  {
   "cell_type": "code",
   "execution_count": 8,
   "id": "b6df72a1",
   "metadata": {},
   "outputs": [
    {
     "name": "stdout",
     "output_type": "stream",
     "text": [
      "Empty DataFrame\n",
      "Columns: []\n",
      "Index: []\n",
      "           0\n",
      "0      Apple\n",
      "1     Banana\n",
      "2   Cucumber\n",
      "3  Dandelion\n"
     ]
    }
   ],
   "source": [
    "import pandas as pd\n",
    "\n",
    "df = pd.DataFrame()\n",
    "print(df)\n",
    "\n",
    "lst = ['Apple','Banana','Cucumber','Dandelion']\n",
    "\n",
    "df = pd.DataFrame(lst)\n",
    "print(df)"
   ]
  },
  {
   "cell_type": "markdown",
   "id": "5f16080d",
   "metadata": {},
   "source": [
    "# Introduction to ETL"
   ]
  },
  {
   "attachments": {
    "ETL.jpg": {
     "image/jpeg": "[encoded data removed]"
    }
   },
   "cell_type": "markdown",
   "id": "493092d2",
   "metadata": {},
   "source": [
    "![ETL.jpg](attachment:ETL.jpg)\n",
    "\n",
    "reference: https://medium.com/analytics-vidhya/understanding-etl-pipeline-76718d299a08"
   ]
  },
  {
   "cell_type": "markdown",
   "id": "a0407e5c",
   "metadata": {},
   "source": [
    "ETL stands for Extract Transform and Load. It is the process of collecting data from one or more systems, transforming it to the desired form before pushing it to the data database. ETL also allows data to be migrated from many sources, destinations and analytical tools. The organizational data might be organized and unstructured. The ETL process allows all data to be placed under a single roof, so that business information can be generated.\n",
    "\n",
    "ETL is a 3 steps process:\n",
    "\n",
    "- Extracting Data from single or multiple Data Sources\n",
    "- Transoforming Data as per business logic. Transformation is in itself a two steps process- data cleansing and data manipulation.\n",
    "- Loading transformed data into the target data source or data warehouse."
   ]
  },
  {
   "cell_type": "markdown",
   "id": "b824c86c",
   "metadata": {},
   "source": [
    "### ETL Example"
   ]
  },
  {
   "cell_type": "markdown",
   "id": "a2c91a95",
   "metadata": {},
   "source": [
    "Import the functions and required modules for this example"
   ]
  },
  {
   "cell_type": "code",
   "execution_count": 9,
   "id": "f5bef30a",
   "metadata": {},
   "outputs": [],
   "source": [
    "import pandas as pd\n",
    "import xml.etree.ElementTree as ET\n",
    "import glob\n",
    "from datetime import datetime"
   ]
  },
  {
   "cell_type": "markdown",
   "id": "947d0092",
   "metadata": {},
   "source": [
    "Download the files by running the code below"
   ]
  },
  {
   "cell_type": "code",
   "execution_count": 10,
   "id": "0c9c8e0f",
   "metadata": {},
   "outputs": [
    {
     "name": "stderr",
     "output_type": "stream",
     "text": [
      "--2021-09-14 17:23:06--  https://cf-courses-data.s3.us.cloud-object-storage.appdomain.cloud/IBMDeveloperSkillsNetwork-PY0221EN-SkillsNetwork/labs/module%206/Lab%20-%20Extract%20Transform%20Load/data/datasource.zip\n",
      "Resolving cf-courses-data.s3.us.cloud-object-storage.appdomain.cloud (cf-courses-data.s3.us.cloud-object-storage.appdomain.cloud)... 169.63.118.104\n",
      "Connecting to cf-courses-data.s3.us.cloud-object-storage.appdomain.cloud (cf-courses-data.s3.us.cloud-object-storage.appdomain.cloud)|169.63.118.104|:443... connected.\n",
      "HTTP request sent, awaiting response... 200 OK\n",
      "Length: 4249 (4.1K) [application/zip]\n",
      "Saving to: 'datasource.zip'\n",
      "\n",
      "     0K ....                                                  100% 3.04G=0s\n",
      "\n",
      "2021-09-14 17:23:07 (3.04 GB/s) - 'datasource.zip' saved [4249/4249]\n",
      "\n"
     ]
    }
   ],
   "source": [
    "!wget https://cf-courses-data.s3.us.cloud-object-storage.appdomain.cloud/IBMDeveloperSkillsNetwork-PY0221EN-SkillsNetwork/labs/module%206/Lab%20-%20Extract%20Transform%20Load/data/datasource.zip"
   ]
  },
  {
   "cell_type": "markdown",
   "id": "56f55af5",
   "metadata": {},
   "source": [
    "Set the path for the target files"
   ]
  },
  {
   "cell_type": "code",
   "execution_count": 12,
   "id": "f72e846e",
   "metadata": {},
   "outputs": [],
   "source": [
    "tmpfile    = \"dealership_temp.tmp\"               # store all extracted data\n",
    "logfile    = \"dealership_logfile.txt\"            # all event logs will be stored\n",
    "targetfile = \"dealership_transformed_data.csv\"   # transformed data is stored"
   ]
  },
  {
   "cell_type": "markdown",
   "id": "11f0a13a",
   "metadata": {},
   "source": [
    "## Extract"
   ]
  },
  {
   "cell_type": "markdown",
   "id": "32a0d6d1",
   "metadata": {},
   "source": [
    "The function of extract is that it will extract large amounts of data from multiple sources in batches. By adding this feature, all CSV file names will now be discovered and loaded, and CSV files will be added with each iteration in the date frame, with first and second iteration attached, which results in a list of extracted information. We'll move on to the \"Transform\" step of the process after we've gathered the data."
   ]
  },
  {
   "cell_type": "markdown",
   "id": "2b6d0942",
   "metadata": {},
   "source": [
    "##### CSV Extract Function"
   ]
  },
  {
   "cell_type": "code",
   "execution_count": 15,
   "id": "8cea7641",
   "metadata": {},
   "outputs": [],
   "source": [
    "def extract_from_csv(file_to_process):\n",
    "    dataframe = pd.read_csv(file_to_process)\n",
    "    return dataframe"
   ]
  },
  {
   "cell_type": "markdown",
   "id": "56f52c1c",
   "metadata": {},
   "source": [
    "##### JSON Extract Function"
   ]
  },
  {
   "cell_type": "code",
   "execution_count": 16,
   "id": "2541aee5",
   "metadata": {},
   "outputs": [],
   "source": [
    "def extract_from_json(file_to_process):\n",
    "    dataframe = pd.read_json(file_to_process,lines=True)\n",
    "    return dataframe"
   ]
  },
  {
   "cell_type": "markdown",
   "id": "a11b8228",
   "metadata": {},
   "source": [
    "##### XML Extract Function"
   ]
  },
  {
   "cell_type": "code",
   "execution_count": 17,
   "id": "ccf8bdcf",
   "metadata": {},
   "outputs": [],
   "source": [
    "def extract_from_xml(file_to_process):\n",
    "\n",
    "    dataframe = pd.DataFrame(columns=['car_model','year_of_manufacture','price', 'fuel'])\n",
    "\n",
    "    tree = ET.parse(file_to_process) \n",
    "\n",
    "    root = tree.getroot() \n",
    "\n",
    "    for person in root: \n",
    "\n",
    "        car_model = person.find(\"car_model\").text \n",
    "\n",
    "        year_of_manufacture = int(person.find(\"year_of_manufacture\").text)\n",
    "\n",
    "        price = float(person.find(\"price\").text) \n",
    "\n",
    "        fuel = person.find(\"fuel\").text \n",
    "\n",
    "        dataframe = dataframe.append({\"car_model\":car_model, \"year_of_manufacture\":year_of_manufacture, \"price\":price, \"fuel\":fuel}, ignore_index=True) \n",
    "\n",
    "        return dataframe"
   ]
  },
  {
   "cell_type": "markdown",
   "id": "32515096",
   "metadata": {},
   "source": [
    "To extract, call the extract function using its function call for CSV, JSON, XML respectively"
   ]
  },
  {
   "cell_type": "code",
   "execution_count": 22,
   "id": "1a235ef2",
   "metadata": {},
   "outputs": [],
   "source": [
    "def extract():\n",
    "    extracted_data = pd.DataFrame(columns=['car_model','year_of_manufacture','price', 'fuel']) \n",
    "    #for csv files\n",
    "    for csvfile in glob.glob(\"dealership_data/*.csv\"):\n",
    "        extracted_data = extracted_data.append(extract_from_csv(csvfile), ignore_index=True)\n",
    "    #for json files\n",
    "    for jsonfile in glob.glob(\"dealership_data/*.json\"):\n",
    "        extracted_data = extracted_data.append(extract_from_json(jsonfile), ignore_index=True)\n",
    "    #for xml files\n",
    "    for xmlfile in glob.glob(\"dealership_data/*.xml\"):\n",
    "        extracted_data = extracted_data.append(extract_from_xml(xmlfile), ignore_index=True)\n",
    "    return extracted_data"
   ]
  },
  {
   "cell_type": "markdown",
   "id": "949cae8c",
   "metadata": {},
   "source": [
    "## Transform\n",
    "\n",
    "Once the data is gathered, Transform phase is the next step of the process. This function will convert the height of the column, in inches, into millimeters and the column pounds, into kilograms, and the results will be returned to the variable data. The column height will be at feet in the input data frame. Turn the column to meters and round it to two decimals."
   ]
  },
  {
   "cell_type": "code",
   "execution_count": 23,
   "id": "ba64bd52",
   "metadata": {},
   "outputs": [],
   "source": [
    "def transform(data):\n",
    "    data['price'] = round(data.price, 2)\n",
    "    return data"
   ]
  },
  {
   "cell_type": "markdown",
   "id": "89fad549",
   "metadata": {},
   "source": [
    "### Load\n",
    "\n",
    "Now that we've gathered it, it's time to put the data into the target file. In this situation, we store pandas data as a CSV. We have now taken the steps to extract, convert and load data from several sources into a single destination file. A logging entry is needed to be establish. This can be achieved by writing a logging function"
   ]
  },
  {
   "cell_type": "markdown",
   "id": "e9b576cc",
   "metadata": {},
   "source": [
    "##### Load Function:"
   ]
  },
  {
   "cell_type": "code",
   "execution_count": 24,
   "id": "43278e3c",
   "metadata": {},
   "outputs": [],
   "source": [
    "def load(targetfile,data_to_load):\n",
    "    data_to_load.to_csv(targetfile)"
   ]
  },
  {
   "cell_type": "markdown",
   "id": "dfd8ba74",
   "metadata": {},
   "source": [
    "##### Log Function:"
   ]
  },
  {
   "cell_type": "code",
   "execution_count": 25,
   "id": "dd3218ff",
   "metadata": {},
   "outputs": [],
   "source": [
    "def log(message):\n",
    "    timestamp_format = '%H:%M:%S-%h-%d-%Y'\n",
    "    #Hour-Minute-Second-MonthName-Day-Year\n",
    "    now = datetime.now() # get current timestamp\n",
    "    timestamp = now.strftime(timestamp_format)\n",
    "    with open(\"dealership_logfile.txt\",\"a\") as f: f.write(timestamp + ',' + message + 'n')"
   ]
  },
  {
   "cell_type": "markdown",
   "id": "e92577e5",
   "metadata": {},
   "source": [
    "Reference:\n",
    "1. https://www.analyticsvidhya.com/blog/2021/06/implementing-python-to-learn-data-engineering-etl-process/#h2_4\n",
    "2. https://www.analyticsvidhya.com/blog/2021/05/pandas-vs-petl-for-etl/\n",
    "3. https://medium.datadriveninvestor.com/understanding-extract-transform-and-load-etl-and-its-necessity-in-data-analytics-world-with-an-64346016153d\n",
    "4. https://www.geeksforgeeks.org/introduction-to-pandas-in-python/\n",
    "5. https://www.youtube.com/watch?v=oY62o-tBHF4&list=PLeo1K3hjS3uuASpe-1LjfG5f14Bnozjwy&index=11"
   ]
  }
 ],
 "metadata": {
  "kernelspec": {
   "display_name": "Python 3 (ipykernel)",
   "language": "python",
   "name": "python3"
  },
  "language_info": {
   "codemirror_mode": {
    "name": "ipython",
    "version": 3
   },
   "file_extension": ".py",
   "mimetype": "text/x-python",
   "name": "python",
   "nbconvert_exporter": "python",
   "pygments_lexer": "ipython3",
   "version": "3.7.0"
  }
 },
 "nbformat": 4,
 "nbformat_minor": 5
}
